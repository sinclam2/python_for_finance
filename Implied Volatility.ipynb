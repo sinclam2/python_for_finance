{
 "cells": [
  {
   "cell_type": "markdown",
   "metadata": {},
   "source": [
    "# Implied Volatility & the BSM Model"
   ]
  },
  {
   "cell_type": "markdown",
   "metadata": {},
   "source": [
    "- The Black-Scholes-Merton model gives:\n",
    "\n",
    "# $C\\left ( S_{t}, K, t, r,\\sigma  \\right ) = S_{t}\\cdot {\\mathbf{N}}(d_{1})-e^{-r(T-t)}\\cdot K\\cdot \\mathbf{N}(d_{2})$\n",
    "\n",
    "where\n",
    "\n",
    "# $\\mathbf{N}(d) = \\frac{1}{\\sqrt{2\\pi }}\\int_{-\\infty}^{d}e^{-\\frac{1}{2}x^{2}}dx$\n",
    "\n",
    "- $\\mathbf{N}$ represents the cumulative normal dist'n function\n",
    "\n",
    "# $d_{1} = \\frac{log\\left ( \\frac{S_{t}}{K} \\right ) + \\left ( r+\\frac{\\sigma^{2}}{2} \\right )\\left ( T-t \\right )}{\\sigma \\sqrt{T-t} }$\n",
    "\n",
    "# $d_{2} = \\frac{log\\left ( \\frac{S_{t}}{K} \\right ) + \\left ( r-\\frac{\\sigma^{2}}{2} \\right )\\left ( T-t \\right )}{\\sigma \\sqrt{T-t} }$\n",
    "\n",
    "- $S_{t}$ represents the price of stock $S$ at time $t$\n",
    "- $\\sigma$ represents the volatility of the price of $S$\n",
    "- $K$ represents the strike price of the option on stock $S$\n",
    "- $T$ represents the maturity of the option\n",
    "- $r$ represents the constant riskless short rate i.e. RFR"
   ]
  },
  {
   "cell_type": "markdown",
   "metadata": {},
   "source": [
    "- If we're given a quote $C^{*}$ for a European call option with price $S^{t}$, strike $K$, maturity $T$ with market RFR $r$, we can reverse engineer the value of $\\sigma$ i.e. solve for the Implied Volatility"
   ]
  },
  {
   "cell_type": "markdown",
   "metadata": {},
   "source": [
    "- There is no closed-form solution i.e. we can't isolate and solve for $\\sigma$\n",
    "    - must use a numerical solution"
   ]
  },
  {
   "cell_type": "markdown",
   "metadata": {},
   "source": [
    "- The Newton scheme to estimate the correct solution iterates over the first derivative until a certain level of accuracy is achieved\n",
    "\n",
    "## Newton scheme\n",
    "\n",
    "# $\\sigma^{implied}_{n+1} = \\sigma^{implied}_{n} - \\frac{C(\\sigma^{implied}_{n})-C^{*}}{\\partial C(\\sigma^{implied}_{n})/\\partial\\sigma^{implied}_{n}}$\n",
    "\n",
    "- The **Vega** of the option gives the partial derivative of $C$ wrt $\\sigma$:\n",
    "\n",
    "# $\\frac{\\partial C}{\\partial \\sigma} = S_{t} \\cdot  \\mathbf{N}(d_{1}) \\cdot \\sqrt{T-t} $"
   ]
  },
  {
   "cell_type": "code",
   "execution_count": 1,
   "metadata": {
    "collapsed": true
   },
   "outputs": [],
   "source": [
    "from math import log, sqrt, exp\n",
    "from scipy import stats"
   ]
  },
  {
   "cell_type": "code",
   "execution_count": 2,
   "metadata": {
    "collapsed": true
   },
   "outputs": [],
   "source": [
    "def bsm_call_value(S0, K, T, r, sigma):\n",
    "    #this function returns the value of C based on the inputs\n",
    "    \n",
    "    d1 = (log(float(S0)/K) + (r + 0.5*sigma**2)*T)/(sigma*sqrt(T))\n",
    "    d2 = (log(float(S0)/K) + (r - 0.5*sigma**2)*T)/(sigma*sqrt(T))\n",
    "    \n",
    "    norm1 = stats.norm.cdf(d1,0,1)\n",
    "    norm2 = stats.norm.cdf(d2,0,1)\n",
    "    #stats.norm.cdf(a,0,1) returns the cdf for a normal dist'n with mean 0 and SD 1\n",
    "    \n",
    "    value = S0*norm1 - exp(-r*T)*K*norm2\n",
    "    \n",
    "    return value"
   ]
  },
  {
   "cell_type": "code",
   "execution_count": 5,
   "metadata": {
    "collapsed": false
   },
   "outputs": [],
   "source": [
    "def bsm_vega(S0, K, T, r, sigma):\n",
    "    d1 = (log(float(S0)/K) + (r + 0.5*sigma**2)*T)/(sigma*sqrt(T))\n",
    "    norm1 = stats.norm.cdf(d1,0,1)\n",
    "    \n",
    "    vega = S0 * norm1 * sqrt(T)\n",
    "    \n",
    "    return vega"
   ]
  },
  {
   "cell_type": "code",
   "execution_count": 18,
   "metadata": {
    "collapsed": true
   },
   "outputs": [],
   "source": [
    "def bsm_imp_vol(S0, K, T, r, C0, sigma_estimate, iterations):\n",
    "    \n",
    "    for i in range(iterations):\n",
    "        print sigma_estimate\n",
    "        numerator = bsm_call_value(S0, K, T, r, sigma_estimate) - C0\n",
    "        denominator = bsm_vega(S0, K, T, r, sigma_estimate)\n",
    "        \n",
    "        sigma_estimate -= float(numerator)/denominator\n",
    "        \n",
    "    return sigma_estimate"
   ]
  },
  {
   "cell_type": "markdown",
   "metadata": {},
   "source": [
    "**Example**\n",
    "\n",
    "- Walgreens Boots Alliance, Inc. (WBA)\n",
    "    - $C^{*}$ = $3.23\n",
    "    \n",
    "    - $S_{0}$ = $83.11\n",
    "    \n",
    "    - $K$ = 80\n",
    "    \n",
    "    - $r$ = 0.25%\n",
    "    \n",
    "    - $T$ = 1 day"
   ]
  },
  {
   "cell_type": "markdown",
   "metadata": {},
   "source": [
    "### We need to guess an initial value for implied volatility\n",
    "    - If we guess 0.3, see what value it spits out for C0"
   ]
  },
  {
   "cell_type": "code",
   "execution_count": 16,
   "metadata": {
    "collapsed": false
   },
   "outputs": [
    {
     "data": {
      "text/plain": [
       "3.1137364434604962"
      ]
     },
     "execution_count": 16,
     "metadata": {},
     "output_type": "execute_result"
    }
   ],
   "source": [
    "bsm_call_value(83.11,80,1/float(365),0.0025, 0.3)"
   ]
  },
  {
   "cell_type": "markdown",
   "metadata": {},
   "source": [
    "- 0.3 is a fine estimate\n",
    "    - run bsm_imp_vol"
   ]
  },
  {
   "cell_type": "code",
   "execution_count": 19,
   "metadata": {
    "collapsed": false
   },
   "outputs": [
    {
     "name": "stdout",
     "output_type": "stream",
     "text": [
      "0.3\n",
      "0.326925515318\n",
      "0.353274958887\n",
      "0.378738671806\n",
      "0.402985153561\n",
      "0.425701556964\n",
      "0.446630129928\n",
      "0.465593390884\n",
      "0.482504742148\n",
      "0.497365293475\n",
      "0.510250534978\n",
      "0.52129159456\n",
      "0.53065539114\n",
      "0.53852673188\n",
      "0.545093972301\n",
      "0.550538688261\n",
      "0.555029051995\n",
      "0.558716231341\n",
      "0.561733033684\n",
      "0.564194078696\n",
      "0.566196917304\n",
      "0.567823662165\n",
      "0.569142827628\n",
      "0.570211183668\n",
      "0.571075507194\n",
      "0.571774169263\n",
      "0.572338533084\n",
      "0.572794160314\n",
      "0.5731618362\n",
      "0.573458430771\n",
      "0.573697615929\n",
      "0.573890458453\n",
      "0.574045907753\n",
      "0.574171195367\n",
      "0.574272161057\n",
      "0.574353518302\n",
      "0.574419069975\n",
      "0.574471883267\n",
      "0.574514431357\n",
      "0.574548708029\n",
      "0.574576320327\n",
      "0.574598563391\n",
      "0.574616480879\n",
      "0.574630913725\n",
      "0.574642539466\n",
      "0.574651903961\n",
      "0.574659446959\n",
      "0.574665522716\n",
      "0.574670416606\n",
      "0.57467435851\n",
      "0.574677533599\n",
      "0.574680091035\n",
      "0.574682150964\n",
      "0.574683810165\n",
      "0.574685146591\n",
      "0.574686223032\n",
      "0.574687090065\n",
      "0.574687788426\n",
      "0.574688350928\n",
      "0.574688804001\n",
      "0.574689168933\n",
      "0.574689462871\n",
      "0.574689699626\n",
      "0.574689890323\n",
      "0.574690043921\n",
      "0.574690167638\n",
      "0.574690267287\n",
      "0.57469034755\n",
      "0.574690412199\n",
      "0.57469046427\n",
      "0.574690506212\n",
      "0.574690539994\n",
      "0.574690567205\n",
      "0.574690589121\n",
      "0.574690606774\n",
      "0.574690620993\n",
      "0.574690632446\n",
      "0.57469064167\n",
      "0.5746906491\n",
      "0.574690655085\n",
      "0.574690659905\n",
      "0.574690663788\n",
      "0.574690666915\n",
      "0.574690669434\n",
      "0.574690671463\n",
      "0.574690673097\n",
      "0.574690674413\n",
      "0.574690675473\n",
      "0.574690676327\n",
      "0.574690677015\n",
      "0.574690677569\n",
      "0.574690678015\n",
      "0.574690678374\n",
      "0.574690678664\n",
      "0.574690678897\n",
      "0.574690679085\n",
      "0.574690679236\n",
      "0.574690679358\n",
      "0.574690679456\n",
      "0.574690679535\n"
     ]
    },
    {
     "data": {
      "text/plain": [
       "0.57469067959893194"
      ]
     },
     "execution_count": 19,
     "metadata": {},
     "output_type": "execute_result"
    }
   ],
   "source": [
    "bsm_imp_vol(83.11, 80, 1/float(365),0.0025,3.23, 0.3, 100)"
   ]
  },
  {
   "cell_type": "markdown",
   "metadata": {},
   "source": [
    "- Testing the value of 0.57469067959893194 as the implied volatility"
   ]
  },
  {
   "cell_type": "code",
   "execution_count": 20,
   "metadata": {
    "collapsed": false
   },
   "outputs": [
    {
     "data": {
      "text/plain": [
       "3.2299999997991478"
      ]
     },
     "execution_count": 20,
     "metadata": {},
     "output_type": "execute_result"
    }
   ],
   "source": [
    "bsm_call_value(83.11,80,1/float(365),0.0025, 0.57469067959893194)"
   ]
  },
  {
   "cell_type": "markdown",
   "metadata": {},
   "source": [
    "- VERY CLOSE!"
   ]
  }
 ],
 "metadata": {
  "kernelspec": {
   "display_name": "Python 2",
   "language": "python",
   "name": "python2"
  },
  "language_info": {
   "codemirror_mode": {
    "name": "ipython",
    "version": 2
   },
   "file_extension": ".py",
   "mimetype": "text/x-python",
   "name": "python",
   "nbconvert_exporter": "python",
   "pygments_lexer": "ipython2",
   "version": "2.7.11"
  }
 },
 "nbformat": 4,
 "nbformat_minor": 0
}
