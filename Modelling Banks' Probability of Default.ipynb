{
 "cells": [
  {
   "cell_type": "markdown",
   "metadata": {},
   "source": [
    "Modelling PDs for financial institutions is complicated by:\n",
    "1. High levels of leverage\n",
    "2. Opacity of assets and liabilities\n",
    "3. Support from governments\n",
    "4. Extreme risk in \"tail events\"\n",
    "5. Regulatory changes"
   ]
  },
  {
   "cell_type": "markdown",
   "metadata": {},
   "source": [
    "- During the financial crisis, many banks moved from solvent to defaulted very quickly\n",
    "    - Thought to be caused by sensitivities to investor confidence\n",
    "- The charts below show that financial firms transition faster than non-financial firms\n",
    "\n",
    "<img src=\"PD_Chart_1.png\">"
   ]
  },
  {
   "cell_type": "markdown",
   "metadata": {},
   "source": [
    "Reasons why the Merton-style Hybrid PD Model is ineffective:\n",
    "\n",
    "1. Higher leverage causes the estimated PD to be too high\n",
    "    - requires embedded adjustments to leverage and volatility to correct it\n",
    "    \n",
    "2. Too few defaults by publicly traded financial firms\n",
    "    - must use rating changes as proxy\n",
    "    - these rating changes, however, often trail risk perceptions\n",
    "    \n",
    "3. Opaqueness of financial firms makes it difficult to assess credit quality"
   ]
  },
  {
   "cell_type": "markdown",
   "metadata": {},
   "source": [
    "Using an adaptive logistic regression, the PD is measured as\n",
    "\n",
    "# $PD=\\frac{1}{1+exp \\left( -\\left(\\beta_{0} + \\sum^{n}_{i=1}\\beta_{i}^{*}\\cdot x_{i} \\right) \\right)}$"
   ]
  },
  {
   "cell_type": "markdown",
   "metadata": {},
   "source": [
    "- some financial ratios are very accurate for predicting defaults\n",
    "- E.g. ROE measures the profitability of the firm\n",
    "    - The chart below show the dist'ns of ROE for defaulting and non-defaulting firms\n",
    "    \n",
    "<img src=\"PD_Chart_2.png\">"
   ]
  },
  {
   "cell_type": "markdown",
   "metadata": {},
   "source": [
    "** Logistic Regression **\n",
    "\n",
    "- logistic regression is the sum of linear functions of multiple input variables put through a non-linear transformation\n",
    "\n",
    "- *Step One*: choose set of financial variables $ \\left \\{ x_{1},x_{2},.., x_{n}\\right \\}$\n",
    "\n",
    "- *Step Two*: derive constants for the function:\n",
    "\n",
    "### $f(x_{i}) = \\alpha_{i} + \\beta_{i}x_{i}$\n",
    "\n",
    "- *Step Three*: pass the $\\alpha_{1}, \\alpha_{2}, ..., \\alpha_{n}$ and $\\beta_{1},\\beta_{2},..., \\beta_{n}$ through the transformation function:\n",
    "\n",
    "### $ z = \\beta_{0} +\\sum^{n}_{i=1}\\beta_{i}\\cdot x_{i}$; where $\\beta_{0}=\\sum^{n}_{i=1}\\alpha_{i}$\n",
    "\n",
    "- *Step Four*: derive the PD as:\n",
    "\n",
    "### $PD=\\frac{1}{1+e^{-z}}$"
   ]
  },
  {
   "cell_type": "markdown",
   "metadata": {},
   "source": [
    "** Forward Stepwise Selection of Input Variables **\n",
    "\n",
    "- General idea: derive a new model each year\n",
    "    - each new model expands the training data to include the previous testing set\n",
    "\n",
    "- *Step One*: create list of testing variables\n",
    "\n",
    "- *Step Two*: standardize all input variables\n",
    "    - controls for their different distributions\n",
    "    \n",
    "- *Step Three*: for each input variable, solve for $\\alpha_{i}$ and $\\beta_{i}$ in the following:\n",
    "\n",
    "## $PD = \\frac{1}{1-e^{-\\left ( \\alpha_{i} + \\beta_{i} \\right )}}$\n",
    "\n",
    "- *Step Four*: rank the input variables in order of predictive power using the Bayesian Information Criterion\n",
    "\n",
    "- *Step Five*: increase the number of input variables included in the logistic regression until the BIC no longer decreases"
   ]
  },
  {
   "cell_type": "markdown",
   "metadata": {},
   "source": [
    "** The Term Structure of Bank PDs **\n",
    "\n",
    "- "
   ]
  }
 ],
 "metadata": {
  "kernelspec": {
   "display_name": "Python 2",
   "language": "python",
   "name": "python2"
  },
  "language_info": {
   "codemirror_mode": {
    "name": "ipython",
    "version": 2
   },
   "file_extension": ".py",
   "mimetype": "text/x-python",
   "name": "python",
   "nbconvert_exporter": "python",
   "pygments_lexer": "ipython2",
   "version": "2.7.11"
  }
 },
 "nbformat": 4,
 "nbformat_minor": 0
}
