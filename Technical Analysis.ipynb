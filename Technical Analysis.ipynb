{
 "cells": [
  {
   "cell_type": "code",
   "execution_count": 1,
   "metadata": {
    "collapsed": false
   },
   "outputs": [],
   "source": [
    "import numpy as np\n",
    "import pandas as pd\n",
    "import pandas.io.data as web\n",
    "import matplotlib.pyplot as plt\n",
    "%matplotlib inline\n",
    "plt.style.use('fivethirtyeight')\n",
    "pd.options.display.max_rows = 99999\n",
    "pd.options.display.max_columns = 99999"
   ]
  },
  {
   "cell_type": "code",
   "execution_count": 2,
   "metadata": {
    "collapsed": false
   },
   "outputs": [],
   "source": [
    "df_SP500 = web.DataReader('^GSPC',data_source='yahoo',start='1/1/2000',end='1/1/2017')"
   ]
  },
  {
   "cell_type": "code",
   "execution_count": 3,
   "metadata": {
    "collapsed": false
   },
   "outputs": [
    {
     "data": {
      "text/html": [
       "<div>\n",
       "<table border=\"1\" class=\"dataframe\">\n",
       "  <thead>\n",
       "    <tr style=\"text-align: right;\">\n",
       "      <th></th>\n",
       "      <th>Open</th>\n",
       "      <th>High</th>\n",
       "      <th>Low</th>\n",
       "      <th>Close</th>\n",
       "      <th>Volume</th>\n",
       "      <th>Adj Close</th>\n",
       "    </tr>\n",
       "    <tr>\n",
       "      <th>Date</th>\n",
       "      <th></th>\n",
       "      <th></th>\n",
       "      <th></th>\n",
       "      <th></th>\n",
       "      <th></th>\n",
       "      <th></th>\n",
       "    </tr>\n",
       "  </thead>\n",
       "  <tbody>\n",
       "    <tr>\n",
       "      <th>2000-01-03</th>\n",
       "      <td>1469.250000</td>\n",
       "      <td>1478.000000</td>\n",
       "      <td>1438.359985</td>\n",
       "      <td>1455.219971</td>\n",
       "      <td>931800000</td>\n",
       "      <td>1455.219971</td>\n",
       "    </tr>\n",
       "    <tr>\n",
       "      <th>2000-01-04</th>\n",
       "      <td>1455.219971</td>\n",
       "      <td>1455.219971</td>\n",
       "      <td>1397.430054</td>\n",
       "      <td>1399.420044</td>\n",
       "      <td>1009000000</td>\n",
       "      <td>1399.420044</td>\n",
       "    </tr>\n",
       "    <tr>\n",
       "      <th>2000-01-05</th>\n",
       "      <td>1399.420044</td>\n",
       "      <td>1413.270020</td>\n",
       "      <td>1377.680054</td>\n",
       "      <td>1402.109985</td>\n",
       "      <td>1085500000</td>\n",
       "      <td>1402.109985</td>\n",
       "    </tr>\n",
       "    <tr>\n",
       "      <th>2000-01-06</th>\n",
       "      <td>1402.109985</td>\n",
       "      <td>1411.900024</td>\n",
       "      <td>1392.099976</td>\n",
       "      <td>1403.449951</td>\n",
       "      <td>1092300000</td>\n",
       "      <td>1403.449951</td>\n",
       "    </tr>\n",
       "    <tr>\n",
       "      <th>2000-01-07</th>\n",
       "      <td>1403.449951</td>\n",
       "      <td>1441.469971</td>\n",
       "      <td>1400.729980</td>\n",
       "      <td>1441.469971</td>\n",
       "      <td>1225200000</td>\n",
       "      <td>1441.469971</td>\n",
       "    </tr>\n",
       "  </tbody>\n",
       "</table>\n",
       "</div>"
      ],
      "text/plain": [
       "                   Open         High          Low        Close      Volume  \\\n",
       "Date                                                                         \n",
       "2000-01-03  1469.250000  1478.000000  1438.359985  1455.219971   931800000   \n",
       "2000-01-04  1455.219971  1455.219971  1397.430054  1399.420044  1009000000   \n",
       "2000-01-05  1399.420044  1413.270020  1377.680054  1402.109985  1085500000   \n",
       "2000-01-06  1402.109985  1411.900024  1392.099976  1403.449951  1092300000   \n",
       "2000-01-07  1403.449951  1441.469971  1400.729980  1441.469971  1225200000   \n",
       "\n",
       "              Adj Close  \n",
       "Date                     \n",
       "2000-01-03  1455.219971  \n",
       "2000-01-04  1399.420044  \n",
       "2000-01-05  1402.109985  \n",
       "2000-01-06  1403.449951  \n",
       "2000-01-07  1441.469971  "
      ]
     },
     "execution_count": 3,
     "metadata": {},
     "output_type": "execute_result"
    }
   ],
   "source": [
    "df_SP500.head()"
   ]
  },
  {
   "cell_type": "code",
   "execution_count": null,
   "metadata": {
    "collapsed": false
   },
   "outputs": [],
   "source": [
    "df_SP500['Close'].plot(figsize=(20,10), grid=True)"
   ]
  },
  {
   "cell_type": "markdown",
   "metadata": {},
   "source": [
    "### We want to look at the 2 month (i.e. 42 day) and one year (i.e. 252 day) rolling averages"
   ]
  },
  {
   "cell_type": "code",
   "execution_count": null,
   "metadata": {
    "collapsed": true
   },
   "outputs": [],
   "source": [
    "df_SP500['Close: 42d RA'] = pd.rolling_mean(df_SP500['Close'], window=42)\n",
    "df_SP500['Close: 252d RA'] = pd.rolling_mean(df_SP500['Close'], window=252)"
   ]
  },
  {
   "cell_type": "code",
   "execution_count": null,
   "metadata": {
    "collapsed": false
   },
   "outputs": [],
   "source": [
    "df_SP500[['Close','Close: 42d RA','Close: 252d RA']].plot(figsize = (30, 15))"
   ]
  },
  {
   "cell_type": "markdown",
   "metadata": {
    "collapsed": true
   },
   "source": [
    "# Trading Signals\n",
    "\n",
    "### 0) Define some Signal Threshold\n",
    "- Let SD = 50\n",
    "\n",
    "### 1) Buy Signal (Go Long)\n",
    "\n",
    "- 42-day mean for the first time goes SD points **above** the 252-day mean\n",
    "\n",
    "### 2) Wait (Park in Cash)\n",
    "\n",
    "- 42-day mean comes **within** +/- SD points of the 252-day mean\n",
    "\n",
    "### 3) Sell Signal (Go Short)\n",
    "\n",
    "- 42-day mean for the first time goes SD points **below** the 252-day mean"
   ]
  },
  {
   "cell_type": "code",
   "execution_count": null,
   "metadata": {
    "collapsed": true
   },
   "outputs": [],
   "source": [
    "df_SP500['Diff'] = df_SP500['Close: 42d RA'] - df_SP500['Close: 252d RA']"
   ]
  },
  {
   "cell_type": "code",
   "execution_count": null,
   "metadata": {
    "collapsed": false
   },
   "outputs": [],
   "source": [
    "SD = 50\n",
    "\n",
    "df_SP500['Regime'] = (df_SP500['Diff']>SD).astype(int) - (df_SP500['Diff']<-SD).astype(int)"
   ]
  },
  {
   "cell_type": "code",
   "execution_count": null,
   "metadata": {
    "collapsed": false
   },
   "outputs": [],
   "source": [
    "df_SP500['Regime'].value_counts()"
   ]
  },
  {
   "cell_type": "code",
   "execution_count": null,
   "metadata": {
    "collapsed": false
   },
   "outputs": [],
   "source": [
    "df_SP500[pd.isnull(df_SP500['Regime'])==False]['Regime'].plot(figsize = (20,10), ylim=[-1.5, 1.5])"
   ]
  },
  {
   "cell_type": "code",
   "execution_count": null,
   "metadata": {
    "collapsed": false
   },
   "outputs": [],
   "source": [
    "df = df_SP500[pd.isnull(df_SP500['Diff'])==False]\n",
    "\n",
    "fig, ax1 = plt.subplots()\n",
    "t = df.index\n",
    "s1 = df['Close']\n",
    "s2 = df['Close: 42d RA']\n",
    "s3 = df['Close: 252d RA']\n",
    "ax1.plot(t, s1, 'b-')\n",
    "ax1.plot(t, s2, 'r-')\n",
    "ax1.plot(t, s3, 'y-')\n",
    "ax1.set_xlabel('Date')\n",
    "# Make the y-axis label and tick labels match the line color.\n",
    "ax1.set_ylabel('Index', color='b')\n",
    "for tl in ax1.get_yticklabels():\n",
    "    tl.set_color('b')\n",
    "\n",
    "\n",
    "ax2 = ax1.twinx()\n",
    "ax2.set_ylim([-1.5,1.5])\n",
    "s4 = df['Regime']\n",
    "ax2.plot(t, s4, 'c--')\n",
    "ax2.set_ylabel('Signal', color='c')\n",
    "#import matplotlib.transforms as mtransforms\n",
    "#trans = mtransforms.blended_transform_factory(ax2.transData, ax2.transAxes)\n",
    "ax2.fill_between(t, 0, 1, where=s4 > 0, facecolor='green', alpha=0.5)\n",
    "ax2.fill_between(t, -1, 0, where=s4 < 0, facecolor='red', alpha=0.5)\n",
    "for tl in ax2.get_yticklabels():\n",
    "    tl.set_color('c')\n",
    "fig.set_size_inches(18.5, 10.5, forward=True)\n",
    "plt.grid(False)\n",
    "plt.show()"
   ]
  },
  {
   "cell_type": "code",
   "execution_count": null,
   "metadata": {
    "collapsed": false
   },
   "outputs": [],
   "source": [
    "df['Market log-Return'] = np.log(df['Close']/df['Close'].shift(1))"
   ]
  },
  {
   "cell_type": "markdown",
   "metadata": {},
   "source": [
    "### Note: using arithmetic returns:\n",
    "\n",
    "# $(1+r_{total}) = (1+r_{1})\\cdot(1+r_{2})...\\cdot(1+r_{N})$\n",
    "\n",
    "### However, using log-returns:\n",
    "\n",
    "# $log(1+r_{total}) = log\\left ( \\frac{P_{N}}{P_{0}} \\right ) = log\\left ( \\frac{P_{N}}{P_{N-1}}\\cdot\\frac{P_{N-1}}{P_{N-2}}\\cdot...\\cdot\\frac{P_{1}}{P_{0}} \\right )$\n",
    "# $= log(1+r_{N-1}) + log(1+r_{N-2}) +...+ log(1+r_{1})$\n",
    "\n",
    "\n",
    "# i.e. take the sum of returns (not the product)"
   ]
  },
  {
   "cell_type": "markdown",
   "metadata": {},
   "source": [
    "**Recall**: \n",
    "- The Regime columns with a value of 1 implies we are holding the index\n",
    "    - So we book $1\\cdot$(Market Return)\n",
    "- The Regime columns with a value of 0 implies we're not in the market\n",
    "    - So we book $0\\cdot$(Market Return)\n",
    "- The Regime columns with a value of -1 implies we've shorted the index\n",
    "     - So we book $-1\\cdot$(Market Return)\n",
    "     \n",
    "# i.e. just take the product df['Market log-Return]$*$df['Regime'] and take the cumsum"
   ]
  },
  {
   "cell_type": "code",
   "execution_count": null,
   "metadata": {
    "collapsed": true
   },
   "outputs": [],
   "source": [
    "df['Market log-Return']"
   ]
  },
  {
   "cell_type": "code",
   "execution_count": null,
   "metadata": {
    "collapsed": false,
    "scrolled": true
   },
   "outputs": [],
   "source": [
    "df['Strategy'] = df['Market log-Return']*df['Regime']"
   ]
  },
  {
   "cell_type": "code",
   "execution_count": null,
   "metadata": {
    "collapsed": false
   },
   "outputs": [],
   "source": [
    "df[['Market log-Return', 'Strategy']].cumsum().apply(np.exp).plot(figsize=(30,15))"
   ]
  },
  {
   "cell_type": "code",
   "execution_count": null,
   "metadata": {
    "collapsed": false
   },
   "outputs": [],
   "source": [
    "df2 = df[['Close', 'Close: 42d RA', 'Close: 252d RA','Diff', 'Market log-Return']].copy()"
   ]
  },
  {
   "cell_type": "code",
   "execution_count": null,
   "metadata": {
    "collapsed": false
   },
   "outputs": [],
   "source": [
    "for threshold in [10, 20, 30, 40, 50]:\n",
    "    df2['Regime: '+str(threshold)] = (df2['Diff']>threshold).astype(int) - (df2['Diff']<-threshold).astype(int)"
   ]
  },
  {
   "cell_type": "code",
   "execution_count": null,
   "metadata": {
    "collapsed": false
   },
   "outputs": [],
   "source": [
    "#assume transaction cost = 10\n",
    "\n",
    "transaction_cost = 10\n",
    "\n",
    "for threshold in [10, 20, 30, 40, 50]:\n",
    "    df2['Transaction Cost: '+str(threshold)] = (-transaction_cost)*(df2['Regime: '+str(threshold)]!=df2['Regime: '+str(threshold)].shift(-1)).astype(int)\n",
    "    df2['Value: '+str(threshold)] = df2['Close']+df2['Transaction Cost: '+str(threshold)]"
   ]
  },
  {
   "cell_type": "code",
   "execution_count": null,
   "metadata": {
    "collapsed": false
   },
   "outputs": [],
   "source": [
    "for threshold in [10, 20, 30, 40, 50]:\n",
    "    df2['log-Return: '+str(threshold)] = np.log(df2['Value: '+str(threshold)]/df2['Value: '+str(threshold)].shift(1))"
   ]
  },
  {
   "cell_type": "code",
   "execution_count": null,
   "metadata": {
    "collapsed": false
   },
   "outputs": [],
   "source": [
    "for threshold in [10, 20, 30, 40, 50]:\n",
    "    df2['Strategy: '+str(threshold)] = df2['log-Return: '+str(threshold)]*df2['Regime: '+str(threshold)]"
   ]
  },
  {
   "cell_type": "code",
   "execution_count": null,
   "metadata": {
    "collapsed": false
   },
   "outputs": [],
   "source": [
    "df2[['Market log-Return', 'Strategy: 10', 'Strategy: 20', 'Strategy: 30', 'Strategy: 40', 'Strategy: 50']].cumsum().apply(np.exp).plot(figsize=(30,15))"
   ]
  },
  {
   "cell_type": "code",
   "execution_count": null,
   "metadata": {
    "collapsed": false,
    "scrolled": false
   },
   "outputs": [],
   "source": [
    "df3 = df[['Close', 'Close: 42d RA', 'Close: 252d RA','Diff', 'Market log-Return']].copy()\n",
    "\n",
    "for transaction_cost in [40]:#[10,20,30,40,50]:\n",
    "    for threshold in [10, 20, 30, 40, 50]:\n",
    "        df3['Regime: '+str(threshold)] = (df3['Diff']>threshold).astype(int) - (df3['Diff']<-threshold).astype(int)\n",
    "        df3['Transaction: '+str(threshold)] = (df3['Regime: '+str(threshold)]!=df3['Regime: '+str(threshold)].shift(-1)).astype(int)\n",
    "        df3['Cumulative Transaction Costs: '+str(threshold)] = (transaction_cost)*df3['Transaction: '+str(threshold)].cumsum()\n",
    "        df3['Value: '+str(threshold)] = df3['Close']-df3['Cumulative Transaction Costs: '+str(threshold)]\n",
    "        df3['log-Return: '+str(threshold)] = np.log(df3['Value: '+str(threshold)]/df3['Value: '+str(threshold)].shift(1))\n",
    "        df3['Strategy: '+str(threshold)] = df3['log-Return: '+str(threshold)]*df3['Regime: '+str(threshold)]\n",
    "    df3[['Market log-Return', 'Strategy: 10', 'Strategy: 20', 'Strategy: 30', 'Strategy: 40', 'Strategy: 50']].cumsum().apply(np.exp).plot(figsize=(30,15), title = 'Transaction Cost: '+str(transaction_cost))"
   ]
  },
  {
   "cell_type": "code",
   "execution_count": null,
   "metadata": {
    "collapsed": false,
    "scrolled": false
   },
   "outputs": [],
   "source": [
    "df3.head()"
   ]
  },
  {
   "cell_type": "code",
   "execution_count": null,
   "metadata": {
    "collapsed": true
   },
   "outputs": [],
   "source": []
  }
 ],
 "metadata": {
  "kernelspec": {
   "display_name": "Python 2",
   "language": "python",
   "name": "python2"
  },
  "language_info": {
   "codemirror_mode": {
    "name": "ipython",
    "version": 2
   },
   "file_extension": ".py",
   "mimetype": "text/x-python",
   "name": "python",
   "nbconvert_exporter": "python",
   "pygments_lexer": "ipython2",
   "version": "2.7.11"
  }
 },
 "nbformat": 4,
 "nbformat_minor": 0
}
