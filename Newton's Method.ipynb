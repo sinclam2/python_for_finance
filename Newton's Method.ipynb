{
 "cells": [
  {
   "cell_type": "markdown",
   "metadata": {},
   "source": [
    "# Newton's Method"
   ]
  },
  {
   "cell_type": "markdown",
   "metadata": {},
   "source": [
    "- Newton's method is used to find the roots of a function i.e. the x-intercept\n",
    "\n",
    "\n",
    "- consider some function $g(x)$ and our desired value $a$. We want find $\\alpha$ such that $g(\\alpha)=a$\n",
    "\n",
    "- we define $f(x) = g(x) - a$ such that if $f(x)=0$ then $g(x)=a$\n",
    "\n",
    "**Steps**\n",
    "\n",
    "1. Guess the value of $\\alpha$. Denote it $x_{guess}$\n",
    "\n",
    "2. Solve for $f^{'}(x)$\n",
    "\n",
    "3. Generate the function of the tangent line of $f(x)$ at $x_{guess}$. Call the tangent line $t(x)$\n",
    "    - Recall: for a general function $f(x)$ at the point $x_{0}$, $t(x) = f^{'}(x_{0})\\cdot(x-x_{0})+f(x_{0})$    \n",
    "4. Solve for the x-intercept of $t(x)$. Call it $x_{intercept}$\n",
    "\n",
    "5. Set $x_{guess}=x_{intercept}$\n",
    "\n",
    "6. Repeat steps 3-5 until $f(x_{guess})\\approx 0$"
   ]
  },
  {
   "cell_type": "markdown",
   "metadata": {},
   "source": [
    "## GIF of process"
   ]
  },
  {
   "cell_type": "markdown",
   "metadata": {},
   "source": [
    "<img src=\"NewtonIteration_Ani.gif\">"
   ]
  },
  {
   "cell_type": "markdown",
   "metadata": {},
   "source": [
    "# Example - finding the square root of 612\n",
    "\n",
    "- We want to find the value of $x$ such that $x^{2}=612$ therefore we define $f(x)=x^{2}-612$\n",
    "\n",
    "1) Let $x_{guess}=10$\n",
    "\n",
    "2) $f^{'}(x) = 2x$\n",
    "\n",
    "3) $t(x) = 2(10)\\cdot (x-10) + (10^{2}-612) = 20\\cdot(x-10) - 512$\n",
    "\n",
    "4) $t(x_{intercept}) = 0 \\implies 20x_{intercept} = 512 + 200 \\implies x_{intercept} = \\frac{712}{20} = 35.6$\n",
    "\n",
    "5), 6)... Set $x_{guess}=35.6 \\implies t(x) = 71.2\\cdot (x-35.6) + 655.36$..."
   ]
  },
  {
   "cell_type": "markdown",
   "metadata": {},
   "source": [
    "# Writing a function for this example"
   ]
  },
  {
   "cell_type": "code",
   "execution_count": 24,
   "metadata": {
    "collapsed": true
   },
   "outputs": [],
   "source": [
    "def square_root_solver(number, x_guess, iterations):\n",
    "    \n",
    "    for i in range(iterations):\n",
    "        \n",
    "        slope = 2*x_guess\n",
    "    \n",
    "        x_intercept = x_guess - (x_guess**2 - number)/float(slope)\n",
    "        \n",
    "        x_guess = x_intercept\n",
    "        \n",
    "        if x_guess**2==number:\n",
    "            break\n",
    "    \n",
    "    return x_guess, i"
   ]
  },
  {
   "cell_type": "code",
   "execution_count": 27,
   "metadata": {
    "collapsed": false
   },
   "outputs": [
    {
     "data": {
      "text/plain": [
       "(24.73863375370596, 99)"
      ]
     },
     "execution_count": 27,
     "metadata": {},
     "output_type": "execute_result"
    }
   ],
   "source": [
    "square_root_solver(612,10,100)"
   ]
  },
  {
   "cell_type": "code",
   "execution_count": 28,
   "metadata": {
    "collapsed": false
   },
   "outputs": [
    {
     "data": {
      "text/plain": [
       "611.9999999999999"
      ]
     },
     "execution_count": 28,
     "metadata": {},
     "output_type": "execute_result"
    }
   ],
   "source": [
    "24.73863375370596**2"
   ]
  },
  {
   "cell_type": "markdown",
   "metadata": {},
   "source": [
    "## So the general form for this method becomes...\n",
    "\n",
    "- Let the $i^{th}$ guess of x be denoted as $x_{i}$\n",
    "    - Therefore the series of guesses is given by $ \\left \\{  x_{0},x_{1},...,x_{n}\\right \\}$ where $n$= # of iterations\n",
    "    \n",
    "- Then we have:\n",
    "\n",
    "# $x_{i+1} = x_{i} - \\frac{f(x_{i})}{f^{'}({x_{i}})}$\n",
    "\n",
    "- To be clear, this formula is just the solution for the x-intercept\n",
    "    - The numerator $f(x_{i})$ is the value of the function at the $i^{th}$ guess for x i.e. $x_{i}$\n",
    "    - The denominator $f^{'}(x_{i})$ is the slope of the tangent line"
   ]
  },
  {
   "cell_type": "markdown",
   "metadata": {},
   "source": [
    "# Another example: solution of $ cos(x) = x^3$\n",
    "\n",
    "## $ f(x) = cos(x) - x^{3}$\n",
    "## $f^{'}(x) = -sin(x) - 3\\cdot x^{2}$"
   ]
  },
  {
   "cell_type": "code",
   "execution_count": 31,
   "metadata": {
    "collapsed": true
   },
   "outputs": [],
   "source": [
    "from math import cos, sin\n",
    "\n",
    "def solver(x_0, iterations):\n",
    "    \n",
    "    for i in range(iterations):\n",
    "        x_0 = x_0 - (cos(x_0)-x_0**3)/float(-sin(x_0)-3*x_0**2)\n",
    "        \n",
    "        if cos(x_0)==x_0**3:\n",
    "            break\n",
    "    \n",
    "    return x_0"
   ]
  },
  {
   "cell_type": "code",
   "execution_count": 34,
   "metadata": {
    "collapsed": false
   },
   "outputs": [
    {
     "data": {
      "text/plain": [
       "0.8654740331016144"
      ]
     },
     "execution_count": 34,
     "metadata": {},
     "output_type": "execute_result"
    }
   ],
   "source": [
    "solver(.2, 100)"
   ]
  }
 ],
 "metadata": {
  "kernelspec": {
   "display_name": "Python 2",
   "language": "python",
   "name": "python2"
  },
  "language_info": {
   "codemirror_mode": {
    "name": "ipython",
    "version": 2
   },
   "file_extension": ".py",
   "mimetype": "text/x-python",
   "name": "python",
   "nbconvert_exporter": "python",
   "pygments_lexer": "ipython2",
   "version": "2.7.11"
  }
 },
 "nbformat": 4,
 "nbformat_minor": 0
}
